{
 "cells": [
  {
   "cell_type": "code",
   "execution_count": 53,
   "metadata": {},
   "outputs": [],
   "source": [
    "import boto3\n",
    "import datetime\n",
    "import re"
   ]
  },
  {
   "cell_type": "code",
   "execution_count": 15,
   "metadata": {},
   "outputs": [],
   "source": [
    "start_ = datetime.datetime.strptime('20190305T2139', '%Y%m%dT%H%M')\n",
    "start_ = int(start_.timestamp())\n",
    "end_ = datetime.datetime.strptime('20190305T2151', '%Y%m%dT%H%M')\n",
    "end_ = int(end_.timestamp())"
   ]
  },
  {
   "cell_type": "code",
   "execution_count": 16,
   "metadata": {},
   "outputs": [],
   "source": [
    "cloudwatch = boto3.client('logs',region_name='us-east-1')"
   ]
  },
  {
   "cell_type": "code",
   "execution_count": 27,
   "metadata": {},
   "outputs": [],
   "source": [
    "response = cloudwatch.get_log_events(\n",
    "    logGroupName='/aws/lambda/blackjack_prototype',\n",
    "    logStreamName='2019/03/05/[$LATEST]df74413a62cb47cf923cf8a8788a0d23',\n",
    "#     startTime=start_,\n",
    "#     endTime=end_,\n",
    "    startFromHead=True\n",
    ")"
   ]
  },
  {
   "cell_type": "code",
   "execution_count": 31,
   "metadata": {},
   "outputs": [
    {
     "data": {
      "text/plain": [
       "1551839940"
      ]
     },
     "execution_count": 31,
     "metadata": {},
     "output_type": "execute_result"
    }
   ],
   "source": [
    "start_"
   ]
  },
  {
   "cell_type": "code",
   "execution_count": 62,
   "metadata": {},
   "outputs": [
    {
     "name": "stdout",
     "output_type": "stream",
     "text": [
      "Welcome to blackjack game! What's your name?\n",
      "Please tell me your name.\n",
      "Welcome to blackjack game! What's your name?\n",
      "Please tell me your name.\n",
      "Welcome to blackjack game! What's your name?\n",
      "Please tell me your name.\n",
      "Is your name <break time=\\\"200ms\\\"/> Yoko?\n",
      "Is your name <break time=\\\"200ms\\\"/> Yoko?\n",
      "Hey Yoko <break time=\\\"20ms\\\"/> nice to meet you. <break time=\\\"20ms\\\"/> Let's play Blackjack. Every player starts with <say-as interpret-as=\\\"cardinal\\\">500</say-as> dollars. Say \\\"start\\\" to start playing! And if you want to stop playing, just say \\\"exit\\\"\n",
      "Hey Yoko <break time=\\\"20ms\\\"/> nice to meet you. <break time=\\\"20ms\\\"/> Let's play Blackjack. Every player starts with <say-as interpret-as=\\\"cardinal\\\">500</say-as> dollars. Say \\\"start\\\" to start playing! And if you want to stop playing, just say \\\"exit\\\"\n",
      "Yoko <break time=\\\"20ms\\\"/>  You currently have  <break time=\\\"20ms\\\"/> <say-as interpret-as=\\\"cardinal\\\">500</say-as> dollars. You can bet as low as ten dollars and up to one hundred dollars. The smallest unit is one dollar. How much would you like to bet?\n",
      "Yoko <break time=\\\"20ms\\\"/>  You currently have  <break time=\\\"20ms\\\"/> <say-as interpret-as=\\\"cardinal\\\">500</say-as> dollars. You can bet as low as ten dollars and up to one hundred dollars. The smallest unit is one dollar. How much would you like to bet?\n",
      "You bet <break time=\\\"100ms\\\"/> <say-as interpret-as=\\\"cardinal\\\">100</say-as> <break time=\\\"100ms\\\"/> dollars <break time=\\\"200ms\\\"/> You are dealt <break time=\\\"200ms\\\"/> jack <break time=\\\"200ms\\\"/>  and  <break time=\\\"200ms\\\"/> two <break time=\\\"200ms\\\"/> for a total of  <break time=\\\"200ms\\\"/> <say-as interpret-as=\\\"cardinal\\\">12</say-as> <break time=\\\"200ms\\\"/> <break time=\\\"200ms\\\"/> I have <break time=\\\"200ms\\\"/> nine <break time=\\\"200ms\\\"/> showing. <break time=\\\"200ms\\\"/> <break time=\\\"200ms\\\"/> <break time=\\\"200ms\\\"/> Would you like to hit, or stand?\n",
      "You bet <break time=\\\"100ms\\\"/> <say-as interpret-as=\\\"cardinal\\\">100</say-as> <break time=\\\"100ms\\\"/> dollars <break time=\\\"200ms\\\"/> You are dealt <break time=\\\"200ms\\\"/> jack <break time=\\\"200ms\\\"/>  and  <break time=\\\"200ms\\\"/> two <break time=\\\"200ms\\\"/> for a total of  <break time=\\\"200ms\\\"/> <say-as interpret-as=\\\"cardinal\\\">12</say-as> <break time=\\\"200ms\\\"/> <break time=\\\"200ms\\\"/> I have <break time=\\\"200ms\\\"/> nine <break time=\\\"200ms\\\"/> showing. <break time=\\\"200ms\\\"/> <break time=\\\"200ms\\\"/> <break time=\\\"200ms\\\"/> Would you like to hit, or stand?\n",
      "You hit. <break time=\\\"200ms\\\"/> You are dealt <break time=\\\"200ms\\\"/> eight <break time=\\\"200ms\\\"/> for a total of  <break time=\\\"200ms\\\"/> <say-as interpret-as=\\\"cardinal\\\">20</say-as> <break time=\\\"200ms\\\"/> Would you like to hit, or stand?\n",
      "You hit. <break time=\\\"200ms\\\"/> You are dealt <break time=\\\"200ms\\\"/> eight <break time=\\\"200ms\\\"/> for a total of  <break time=\\\"200ms\\\"/> <say-as interpret-as=\\\"cardinal\\\">20</say-as> <break time=\\\"200ms\\\"/> Would you like to hit, or stand?\n",
      "you hit. <break time=\\\"200ms\\\"/> You are dealt <break time=\\\"200ms\\\"/> three <break time=\\\"200ms\\\"/> for a total of  <break time=\\\"200ms\\\"/> <say-as interpret-as=\\\"cardinal\\\">23</say-as> <break time=\\\"200ms\\\"/> You lost. <break time=\\\"200ms\\\"/> You now have <break time=\\\"200ms\\\"/> <say-as interpret-as=\\\"cardinal\\\">400</say-as> <break time=\\\"200ms\\\"/> dollars <break time=\\\"200ms\\\"/> Say \\\"start\\\" to keep playing!\n",
      "you hit. <break time=\\\"200ms\\\"/> You are dealt <break time=\\\"200ms\\\"/> three <break time=\\\"200ms\\\"/> for a total of  <break time=\\\"200ms\\\"/> <say-as interpret-as=\\\"cardinal\\\">23</say-as> <break time=\\\"200ms\\\"/> You lost. <break time=\\\"200ms\\\"/> You now have <break time=\\\"200ms\\\"/> <say-as interpret-as=\\\"cardinal\\\">400</say-as> <break time=\\\"200ms\\\"/> dollars <break time=\\\"200ms\\\"/> Say \\\"start\\\" to keep playing!\n",
      "How much would you like to bet?\n",
      "How much would you like to bet?\n",
      "You bet <break time=\\\"100ms\\\"/> <say-as interpret-as=\\\"cardinal\\\">80</say-as> <break time=\\\"100ms\\\"/> dollars <break time=\\\"200ms\\\"/> You are dealt <break time=\\\"200ms\\\"/> five <break time=\\\"200ms\\\"/>  and  <break time=\\\"200ms\\\"/> three <break time=\\\"200ms\\\"/> for a total of  <break time=\\\"200ms\\\"/> <say-as interpret-as=\\\"cardinal\\\">8</say-as> <break time=\\\"200ms\\\"/> <break time=\\\"200ms\\\"/> I have <break time=\\\"200ms\\\"/> three <break time=\\\"200ms\\\"/> showing. <break time=\\\"200ms\\\"/> <break time=\\\"200ms\\\"/> <break time=\\\"200ms\\\"/> Would you like to hit, or stand?\n",
      "You bet <break time=\\\"100ms\\\"/> <say-as interpret-as=\\\"cardinal\\\">80</say-as> <break time=\\\"100ms\\\"/> dollars <break time=\\\"200ms\\\"/> You are dealt <break time=\\\"200ms\\\"/> five <break time=\\\"200ms\\\"/>  and  <break time=\\\"200ms\\\"/> three <break time=\\\"200ms\\\"/> for a total of  <break time=\\\"200ms\\\"/> <say-as interpret-as=\\\"cardinal\\\">8</say-as> <break time=\\\"200ms\\\"/> <break time=\\\"200ms\\\"/> I have <break time=\\\"200ms\\\"/> three <break time=\\\"200ms\\\"/> showing. <break time=\\\"200ms\\\"/> <break time=\\\"200ms\\\"/> <break time=\\\"200ms\\\"/> Would you like to hit, or stand?\n",
      "You stand at <break time=\\\"30ms\\\"/> <say-as interpret-as=\\\"cardinal\\\">8</say-as> <break time=\\\"30ms\\\"/> I have <break time=\\\"200ms\\\"/> three <break time=\\\"200ms\\\"/> showing. <break time=\\\"200ms\\\"/> Another card I have is <break time=\\\"200ms\\\"/> ten <break time=\\\"200ms\\\"/> for a total of <break time=\\\"200ms\\\"/> <say-as interpret-as=\\\"cardinal\\\">13</say-as> <break time=\\\"200ms\\\"/> I have to hit until I have seveteen or more points <break time=\\\"200ms\\\"/> I drew <break time=\\\"200ms\\\"/> four <break time=\\\"200ms\\\"/> for a total of <break time=\\\"200ms\\\"/> <say-as interpret-as=\\\"cardinal\\\">17</say-as> <break time=\\\"200ms\\\"/> I stand at <break time=\\\"200ms\\\"/> <say-as interpret-as=\\\"cardinal\\\">17</say-as> <break time=\\\"200ms\\\"/> You have <break time=\\\"200ms\\\"/> <say-as interpret-as=\\\"cardinal\\\">8</say-as> <break time=\\\"200ms\\\"/> You lose. <break time=\\\"200ms\\\"/> You now have <break time=\\\"200ms\\\"/> <say-as interpret-as=\\\"cardinal\\\">320</say-as> <break time=\\\"200ms\\\"/> dollars <break time=\\\"200ms\\\"/> Say \\\"start\\\" to keep playing!\n",
      "You stand at <break time=\\\"30ms\\\"/> <say-as interpret-as=\\\"cardinal\\\">8</say-as> <break time=\\\"30ms\\\"/> I have <break time=\\\"200ms\\\"/> three <break time=\\\"200ms\\\"/> showing. <break time=\\\"200ms\\\"/> Another card I have is <break time=\\\"200ms\\\"/> ten <break time=\\\"200ms\\\"/> for a total of <break time=\\\"200ms\\\"/> <say-as interpret-as=\\\"cardinal\\\">13</say-as> <break time=\\\"200ms\\\"/> I have to hit until I have seveteen or more points <break time=\\\"200ms\\\"/> I drew <break time=\\\"200ms\\\"/> four <break time=\\\"200ms\\\"/> for a total of <break time=\\\"200ms\\\"/> <say-as interpret-as=\\\"cardinal\\\">17</say-as> <break time=\\\"200ms\\\"/> I stand at <break time=\\\"200ms\\\"/> <say-as interpret-as=\\\"cardinal\\\">17</say-as> <break time=\\\"200ms\\\"/> You have <break time=\\\"200ms\\\"/> <say-as interpret-as=\\\"cardinal\\\">8</say-as> <break time=\\\"200ms\\\"/> You lose. <break time=\\\"200ms\\\"/> You now have <break time=\\\"200ms\\\"/> <say-as interpret-as=\\\"cardinal\\\">320</say-as> <break time=\\\"200ms\\\"/> dollars <break time=\\\"200ms\\\"/> Say \\\"start\\\" to keep playing!\n",
      "How much would you like to bet?\n",
      "How much would you like to bet?\n",
      "You bet <break time=\\\"100ms\\\"/> <say-as interpret-as=\\\"cardinal\\\">20</say-as> <break time=\\\"100ms\\\"/> dollars <break time=\\\"200ms\\\"/> You are dealt <break time=\\\"200ms\\\"/> nine <break time=\\\"200ms\\\"/>  and  <break time=\\\"200ms\\\"/> three <break time=\\\"200ms\\\"/> for a total of  <break time=\\\"200ms\\\"/> <say-as interpret-as=\\\"cardinal\\\">12</say-as> <break time=\\\"200ms\\\"/> <break time=\\\"200ms\\\"/> I have <break time=\\\"200ms\\\"/> jack <break time=\\\"200ms\\\"/> showing. <break time=\\\"200ms\\\"/> Checking if I have Blackjack. <break time=\\\"200ms\\\"/> I have  <break time=\\\"200ms\\\"/> ace <break time=\\\"200ms\\\"/>  and  <break time=\\\"200ms\\\"/> jack <break time=\\\"200ms\\\"/> for Blackjack. I win. <break time=\\\"200ms\\\"/> You now have <break time=\\\"200ms\\\"/> <say-as interpret-as=\\\"cardinal\\\">300</say-as> <break time=\\\"200ms\\\"/> dollars <break time=\\\"200ms\\\"/> Say \\\"start\\\" to keep playing!\n",
      "You bet <break time=\\\"100ms\\\"/> <say-as interpret-as=\\\"cardinal\\\">20</say-as> <break time=\\\"100ms\\\"/> dollars <break time=\\\"200ms\\\"/> You are dealt <break time=\\\"200ms\\\"/> nine <break time=\\\"200ms\\\"/>  and  <break time=\\\"200ms\\\"/> three <break time=\\\"200ms\\\"/> for a total of  <break time=\\\"200ms\\\"/> <say-as interpret-as=\\\"cardinal\\\">12</say-as> <break time=\\\"200ms\\\"/> <break time=\\\"200ms\\\"/> I have <break time=\\\"200ms\\\"/> jack <break time=\\\"200ms\\\"/> showing. <break time=\\\"200ms\\\"/> Checking if I have Blackjack. <break time=\\\"200ms\\\"/> I have  <break time=\\\"200ms\\\"/> ace <break time=\\\"200ms\\\"/>  and  <break time=\\\"200ms\\\"/> jack <break time=\\\"200ms\\\"/> for Blackjack. I win. <break time=\\\"200ms\\\"/> You now have <break time=\\\"200ms\\\"/> <say-as interpret-as=\\\"cardinal\\\">300</say-as> <break time=\\\"200ms\\\"/> dollars <break time=\\\"200ms\\\"/> Say \\\"start\\\" to keep playing!\n",
      "How much would you like to bet?\n",
      "How much would you like to bet?\n",
      "You bet <break time=\\\"100ms\\\"/> <say-as interpret-as=\\\"cardinal\\\">20</say-as> <break time=\\\"100ms\\\"/> dollars <break time=\\\"200ms\\\"/> You are dealt <break time=\\\"200ms\\\"/> two <break time=\\\"200ms\\\"/>  and  <break time=\\\"200ms\\\"/> jack <break time=\\\"200ms\\\"/> for a total of  <break time=\\\"200ms\\\"/> <say-as interpret-as=\\\"cardinal\\\">12</say-as> <break time=\\\"200ms\\\"/> <break time=\\\"200ms\\\"/> I have <break time=\\\"200ms\\\"/> king <break time=\\\"200ms\\\"/> showing. <break time=\\\"200ms\\\"/> Checking if I have Blackjack. <break time=\\\"200ms\\\"/> I do not have Blackjack <break time=\\\"200ms\\\"/> Would you like to hit, or stand?\n",
      "You bet <break time=\\\"100ms\\\"/> <say-as interpret-as=\\\"cardinal\\\">20</say-as> <break time=\\\"100ms\\\"/> dollars <break time=\\\"200ms\\\"/> You are dealt <break time=\\\"200ms\\\"/> two <break time=\\\"200ms\\\"/>  and  <break time=\\\"200ms\\\"/> jack <break time=\\\"200ms\\\"/> for a total of  <break time=\\\"200ms\\\"/> <say-as interpret-as=\\\"cardinal\\\">12</say-as> <break time=\\\"200ms\\\"/> <break time=\\\"200ms\\\"/> I have <break time=\\\"200ms\\\"/> king <break time=\\\"200ms\\\"/> showing. <break time=\\\"200ms\\\"/> Checking if I have Blackjack. <break time=\\\"200ms\\\"/> I do not have Blackjack <break time=\\\"200ms\\\"/> Would you like to hit, or stand?\n",
      "You hit. <break time=\\\"200ms\\\"/> You are dealt <break time=\\\"200ms\\\"/> three <break time=\\\"200ms\\\"/> for a total of  <break time=\\\"200ms\\\"/> <say-as interpret-as=\\\"cardinal\\\">15</say-as> <break time=\\\"200ms\\\"/> Would you like to hit, or stand?\n",
      "You hit. <break time=\\\"200ms\\\"/> You are dealt <break time=\\\"200ms\\\"/> three <break time=\\\"200ms\\\"/> for a total of  <break time=\\\"200ms\\\"/> <say-as interpret-as=\\\"cardinal\\\">15</say-as> <break time=\\\"200ms\\\"/> Would you like to hit, or stand?\n",
      "You hit. <break time=\\\"200ms\\\"/> You are dealt <break time=\\\"200ms\\\"/> three <break time=\\\"200ms\\\"/> for a total of  <break time=\\\"200ms\\\"/> <say-as interpret-as=\\\"cardinal\\\">18</say-as> <break time=\\\"200ms\\\"/> Would you like to hit, or stand?\n",
      "You hit. <break time=\\\"200ms\\\"/> You are dealt <break time=\\\"200ms\\\"/> three <break time=\\\"200ms\\\"/> for a total of  <break time=\\\"200ms\\\"/> <say-as interpret-as=\\\"cardinal\\\">18</say-as> <break time=\\\"200ms\\\"/> Would you like to hit, or stand?\n",
      "you hit. <break time=\\\"200ms\\\"/> You are dealt <break time=\\\"200ms\\\"/> jack <break time=\\\"200ms\\\"/> for a total of  <break time=\\\"200ms\\\"/> <say-as interpret-as=\\\"cardinal\\\">28</say-as> <break time=\\\"200ms\\\"/> You lost. <break time=\\\"200ms\\\"/> You now have <break time=\\\"200ms\\\"/> <say-as interpret-as=\\\"cardinal\\\">280</say-as> <break time=\\\"200ms\\\"/> dollars <break time=\\\"200ms\\\"/> Say \\\"start\\\" to keep playing!\n",
      "you hit. <break time=\\\"200ms\\\"/> You are dealt <break time=\\\"200ms\\\"/> jack <break time=\\\"200ms\\\"/> for a total of  <break time=\\\"200ms\\\"/> <say-as interpret-as=\\\"cardinal\\\">28</say-as> <break time=\\\"200ms\\\"/> You lost. <break time=\\\"200ms\\\"/> You now have <break time=\\\"200ms\\\"/> <say-as interpret-as=\\\"cardinal\\\">280</say-as> <break time=\\\"200ms\\\"/> dollars <break time=\\\"200ms\\\"/> Say \\\"start\\\" to keep playing!\n",
      "How much would you like to bet?\n",
      "How much would you like to bet?\n",
      "You bet <break time=\\\"100ms\\\"/> <say-as interpret-as=\\\"cardinal\\\">50</say-as> <break time=\\\"100ms\\\"/> dollars <break time=\\\"200ms\\\"/> You are dealt <break time=\\\"200ms\\\"/> queen <break time=\\\"200ms\\\"/>  and  <break time=\\\"200ms\\\"/> queen <break time=\\\"200ms\\\"/> for a total of  <break time=\\\"200ms\\\"/> <say-as interpret-as=\\\"cardinal\\\">20</say-as> <break time=\\\"200ms\\\"/> <break time=\\\"200ms\\\"/> I have <break time=\\\"200ms\\\"/> jack <break time=\\\"200ms\\\"/> showing. <break time=\\\"200ms\\\"/> Checking if I have Blackjack. <break time=\\\"200ms\\\"/> I do not have Blackjack <break time=\\\"200ms\\\"/> Would you like to hit, or stand?\n",
      "You bet <break time=\\\"100ms\\\"/> <say-as interpret-as=\\\"cardinal\\\">50</say-as> <break time=\\\"100ms\\\"/> dollars <break time=\\\"200ms\\\"/> You are dealt <break time=\\\"200ms\\\"/> queen <break time=\\\"200ms\\\"/>  and  <break time=\\\"200ms\\\"/> queen <break time=\\\"200ms\\\"/> for a total of  <break time=\\\"200ms\\\"/> <say-as interpret-as=\\\"cardinal\\\">20</say-as> <break time=\\\"200ms\\\"/> <break time=\\\"200ms\\\"/> I have <break time=\\\"200ms\\\"/> jack <break time=\\\"200ms\\\"/> showing. <break time=\\\"200ms\\\"/> Checking if I have Blackjack. <break time=\\\"200ms\\\"/> I do not have Blackjack <break time=\\\"200ms\\\"/> Would you like to hit, or stand?\n",
      "You stand at <break time=\\\"30ms\\\"/> <say-as interpret-as=\\\"cardinal\\\">20</say-as> <break time=\\\"30ms\\\"/> I have <break time=\\\"200ms\\\"/> jack <break time=\\\"200ms\\\"/> showing. <break time=\\\"200ms\\\"/> Another card I have is <break time=\\\"200ms\\\"/> queen <break time=\\\"200ms\\\"/> for a total of <break time=\\\"200ms\\\"/> <say-as interpret-as=\\\"cardinal\\\">20</say-as> <break time=\\\"200ms\\\"/> I stand at <break time=\\\"200ms\\\"/> <say-as interpret-as=\\\"cardinal\\\">20</say-as> <break time=\\\"200ms\\\"/> You have <break time=\\\"200ms\\\"/> <say-as interpret-as=\\\"cardinal\\\">20</say-as> <break time=\\\"200ms\\\"/> Tied game. Your bet has been pushed over to the next game. <break time=\\\"200ms\\\"/> Continue Playing by saying \\\"start.\\\"\n",
      "You stand at <break time=\\\"30ms\\\"/> <say-as interpret-as=\\\"cardinal\\\">20</say-as> <break time=\\\"30ms\\\"/> I have <break time=\\\"200ms\\\"/> jack <break time=\\\"200ms\\\"/> showing. <break time=\\\"200ms\\\"/> Another card I have is <break time=\\\"200ms\\\"/> queen <break time=\\\"200ms\\\"/> for a total of <break time=\\\"200ms\\\"/> <say-as interpret-as=\\\"cardinal\\\">20</say-as> <break time=\\\"200ms\\\"/> I stand at <break time=\\\"200ms\\\"/> <say-as interpret-as=\\\"cardinal\\\">20</say-as> <break time=\\\"200ms\\\"/> You have <break time=\\\"200ms\\\"/> <say-as interpret-as=\\\"cardinal\\\">20</say-as> <break time=\\\"200ms\\\"/> Tied game. Your bet has been pushed over to the next game. <break time=\\\"200ms\\\"/> Continue Playing by saying \\\"start.\\\"\n",
      "How much would you like to bet? <break time=\\\"200ms\\\"/> You also have pushed bet from the last game of <break time=\\\"200ms\\\"/> 50 <break time=\\\"200ms\\\"/> dollars\n",
      "How much would you like to bet? <break time=\\\"200ms\\\"/> You also have pushed bet from the last game of <break time=\\\"200ms\\\"/> 50 <break time=\\\"200ms\\\"/> dollars\n",
      "You bet <break time=\\\"100ms\\\"/> <say-as interpret-as=\\\"cardinal\\\">50</say-as> <break time=\\\"100ms\\\"/> dollars <break time=\\\"200ms\\\"/> and <break time=\\\"200ms\\\"/> <say-as interpret-as=\\\"cardinal\\\">50</say-as> from your previous game. <break time=\\\"200ms\\\"/> You are dealt <break time=\\\"200ms\\\"/> ten <break time=\\\"200ms\\\"/>  and  <break time=\\\"200ms\\\"/> king <break time=\\\"200ms\\\"/> for a total of  <break time=\\\"200ms\\\"/> <say-as interpret-as=\\\"cardinal\\\">20</say-as> <break time=\\\"200ms\\\"/> <break time=\\\"200ms\\\"/> I have <break time=\\\"200ms\\\"/> nine <break time=\\\"200ms\\\"/> showing. <break time=\\\"200ms\\\"/> <break time=\\\"200ms\\\"/> <break time=\\\"200ms\\\"/> Would you like to hit, or stand?\n",
      "You bet <break time=\\\"100ms\\\"/> <say-as interpret-as=\\\"cardinal\\\">50</say-as> <break time=\\\"100ms\\\"/> dollars <break time=\\\"200ms\\\"/> and <break time=\\\"200ms\\\"/> <say-as interpret-as=\\\"cardinal\\\">50</say-as> from your previous game. <break time=\\\"200ms\\\"/> You are dealt <break time=\\\"200ms\\\"/> ten <break time=\\\"200ms\\\"/>  and  <break time=\\\"200ms\\\"/> king <break time=\\\"200ms\\\"/> for a total of  <break time=\\\"200ms\\\"/> <say-as interpret-as=\\\"cardinal\\\">20</say-as> <break time=\\\"200ms\\\"/> <break time=\\\"200ms\\\"/> I have <break time=\\\"200ms\\\"/> nine <break time=\\\"200ms\\\"/> showing. <break time=\\\"200ms\\\"/> <break time=\\\"200ms\\\"/> <break time=\\\"200ms\\\"/> Would you like to hit, or stand?\n",
      "You stand at <break time=\\\"30ms\\\"/> <say-as interpret-as=\\\"cardinal\\\">20</say-as> <break time=\\\"30ms\\\"/> I have <break time=\\\"200ms\\\"/> nine <break time=\\\"200ms\\\"/> showing. <break time=\\\"200ms\\\"/> Another card I have is <break time=\\\"200ms\\\"/> four <break time=\\\"200ms\\\"/> for a total of <break time=\\\"200ms\\\"/> <say-as interpret-as=\\\"cardinal\\\">13</say-as> <break time=\\\"200ms\\\"/> I have to hit until I have seveteen or more points <break time=\\\"200ms\\\"/> I drew <break time=\\\"200ms\\\"/> five <break time=\\\"200ms\\\"/> for a total of <break time=\\\"200ms\\\"/> <say-as interpret-as=\\\"cardinal\\\">18</say-as> <break time=\\\"200ms\\\"/> I stand at <break time=\\\"200ms\\\"/> <say-as interpret-as=\\\"cardinal\\\">18</say-as> <break time=\\\"200ms\\\"/> You have <break time=\\\"200ms\\\"/> <say-as interpret-as=\\\"cardinal\\\">20</say-as> <break time=\\\"200ms\\\"/> You win! <break time=\\\"200ms\\\"/> You now have <break time=\\\"200ms\\\"/> <say-as interpret-as=\\\"cardinal\\\">380</say-as> <break time=\\\"200ms\\\"/> dollars <break time=\\\"200ms\\\"/> Say \\\"start\\\" to keep playing!\n",
      "You stand at <break time=\\\"30ms\\\"/> <say-as interpret-as=\\\"cardinal\\\">20</say-as> <break time=\\\"30ms\\\"/> I have <break time=\\\"200ms\\\"/> nine <break time=\\\"200ms\\\"/> showing. <break time=\\\"200ms\\\"/> Another card I have is <break time=\\\"200ms\\\"/> four <break time=\\\"200ms\\\"/> for a total of <break time=\\\"200ms\\\"/> <say-as interpret-as=\\\"cardinal\\\">13</say-as> <break time=\\\"200ms\\\"/> I have to hit until I have seveteen or more points <break time=\\\"200ms\\\"/> I drew <break time=\\\"200ms\\\"/> five <break time=\\\"200ms\\\"/> for a total of <break time=\\\"200ms\\\"/> <say-as interpret-as=\\\"cardinal\\\">18</say-as> <break time=\\\"200ms\\\"/> I stand at <break time=\\\"200ms\\\"/> <say-as interpret-as=\\\"cardinal\\\">18</say-as> <break time=\\\"200ms\\\"/> You have <break time=\\\"200ms\\\"/> <say-as interpret-as=\\\"cardinal\\\">20</say-as> <break time=\\\"200ms\\\"/> You win! <break time=\\\"200ms\\\"/> You now have <break time=\\\"200ms\\\"/> <say-as interpret-as=\\\"cardinal\\\">380</say-as> <break time=\\\"200ms\\\"/> dollars <break time=\\\"200ms\\\"/> Say \\\"start\\\" to keep playing!\n",
      "How much would you like to bet?\n",
      "How much would you like to bet?\n",
      "You bet <break time=\\\"100ms\\\"/> <say-as interpret-as=\\\"cardinal\\\">15</say-as> <break time=\\\"100ms\\\"/> dollars <break time=\\\"200ms\\\"/> You are dealt <break time=\\\"200ms\\\"/> ten <break time=\\\"200ms\\\"/>  and  <break time=\\\"200ms\\\"/> nine <break time=\\\"200ms\\\"/> for a total of  <break time=\\\"200ms\\\"/> <say-as interpret-as=\\\"cardinal\\\">19</say-as> <break time=\\\"200ms\\\"/> <break time=\\\"200ms\\\"/> I have <break time=\\\"200ms\\\"/> four <break time=\\\"200ms\\\"/> showing. <break time=\\\"200ms\\\"/> <break time=\\\"200ms\\\"/> <break time=\\\"200ms\\\"/> Would you like to hit, or stand?\n",
      "You bet <break time=\\\"100ms\\\"/> <say-as interpret-as=\\\"cardinal\\\">15</say-as> <break time=\\\"100ms\\\"/> dollars <break time=\\\"200ms\\\"/> You are dealt <break time=\\\"200ms\\\"/> ten <break time=\\\"200ms\\\"/>  and  <break time=\\\"200ms\\\"/> nine <break time=\\\"200ms\\\"/> for a total of  <break time=\\\"200ms\\\"/> <say-as interpret-as=\\\"cardinal\\\">19</say-as> <break time=\\\"200ms\\\"/> <break time=\\\"200ms\\\"/> I have <break time=\\\"200ms\\\"/> four <break time=\\\"200ms\\\"/> showing. <break time=\\\"200ms\\\"/> <break time=\\\"200ms\\\"/> <break time=\\\"200ms\\\"/> Would you like to hit, or stand?\n",
      "You stand at <break time=\\\"30ms\\\"/> <say-as interpret-as=\\\"cardinal\\\">19</say-as> <break time=\\\"30ms\\\"/> I have <break time=\\\"200ms\\\"/> four <break time=\\\"200ms\\\"/> showing. <break time=\\\"200ms\\\"/> Another card I have is <break time=\\\"200ms\\\"/> ace <break time=\\\"200ms\\\"/> for a total of <break time=\\\"200ms\\\"/> <say-as interpret-as=\\\"cardinal\\\">5</say-as> <break time=\\\"200ms\\\"/> or <break time=\\\"200ms\\\"/> <say-as interpret-as=\\\"cardinal\\\">15</say-as> <break time=\\\"200ms\\\"/> I have to hit until I have seveteen or more points <break time=\\\"200ms\\\"/> I drew <break time=\\\"200ms\\\"/> seven <break time=\\\"200ms\\\"/> for a total of <break time=\\\"200ms\\\"/> <say-as interpret-as=\\\"cardinal\\\">12</say-as> <break time=\\\"200ms\\\"/> I drew <break time=\\\"200ms\\\"/> eight <break time=\\\"200ms\\\"/> for a total of <break time=\\\"200ms\\\"/> <say-as interpret-as=\\\"cardinal\\\">20</say-as> <break time=\\\"200ms\\\"/> I stand at <break time=\\\"200ms\\\"/> <say-as interpret-as=\\\"cardinal\\\">20</say-as> <break time=\\\"200ms\\\"/> You have <break time=\\\"200ms\\\"/> <say-as interpret-as=\\\"cardinal\\\">19</say-as> <break time=\\\"200ms\\\"/> You lose. <break time=\\\"200ms\\\"/> You now have <break time=\\\"200ms\\\"/> <say-as interpret-as=\\\"cardinal\\\">365</say-as> <break time=\\\"200ms\\\"/> dollars <break time=\\\"200ms\\\"/> Say \\\"start\\\" to keep playing!\n",
      "You stand at <break time=\\\"30ms\\\"/> <say-as interpret-as=\\\"cardinal\\\">19</say-as> <break time=\\\"30ms\\\"/> I have <break time=\\\"200ms\\\"/> four <break time=\\\"200ms\\\"/> showing. <break time=\\\"200ms\\\"/> Another card I have is <break time=\\\"200ms\\\"/> ace <break time=\\\"200ms\\\"/> for a total of <break time=\\\"200ms\\\"/> <say-as interpret-as=\\\"cardinal\\\">5</say-as> <break time=\\\"200ms\\\"/> or <break time=\\\"200ms\\\"/> <say-as interpret-as=\\\"cardinal\\\">15</say-as> <break time=\\\"200ms\\\"/> I have to hit until I have seveteen or more points <break time=\\\"200ms\\\"/> I drew <break time=\\\"200ms\\\"/> seven <break time=\\\"200ms\\\"/> for a total of <break time=\\\"200ms\\\"/> <say-as interpret-as=\\\"cardinal\\\">12</say-as> <break time=\\\"200ms\\\"/> I drew <break time=\\\"200ms\\\"/> eight <break time=\\\"200ms\\\"/> for a total of <break time=\\\"200ms\\\"/> <say-as interpret-as=\\\"cardinal\\\">20</say-as> <break time=\\\"200ms\\\"/> I stand at <break time=\\\"200ms\\\"/> <say-as interpret-as=\\\"cardinal\\\">20</say-as> <break time=\\\"200ms\\\"/> You have <break time=\\\"200ms\\\"/> <say-as interpret-as=\\\"cardinal\\\">19</say-as> <break time=\\\"200ms\\\"/> You lose. <break time=\\\"200ms\\\"/> You now have <break time=\\\"200ms\\\"/> <say-as interpret-as=\\\"cardinal\\\">365</say-as> <break time=\\\"200ms\\\"/> dollars <break time=\\\"200ms\\\"/> Say \\\"start\\\" to keep playing!\n",
      "How much would you like to bet?\n",
      "How much would you like to bet?\n",
      "You bet <break time=\\\"100ms\\\"/> <say-as interpret-as=\\\"cardinal\\\">15</say-as> <break time=\\\"100ms\\\"/> dollars <break time=\\\"200ms\\\"/> You are dealt <break time=\\\"200ms\\\"/> ten <break time=\\\"200ms\\\"/>  and  <break time=\\\"200ms\\\"/> ten <break time=\\\"200ms\\\"/> for a total of  <break time=\\\"200ms\\\"/> <say-as interpret-as=\\\"cardinal\\\">20</say-as> <break time=\\\"200ms\\\"/> <break time=\\\"200ms\\\"/> I have <break time=\\\"200ms\\\"/> two <break time=\\\"200ms\\\"/> showing. <break time=\\\"200ms\\\"/> <break time=\\\"200ms\\\"/> <break time=\\\"200ms\\\"/> Would you like to hit, or stand?\n",
      "You bet <break time=\\\"100ms\\\"/> <say-as interpret-as=\\\"cardinal\\\">15</say-as> <break time=\\\"100ms\\\"/> dollars <break time=\\\"200ms\\\"/> You are dealt <break time=\\\"200ms\\\"/> ten <break time=\\\"200ms\\\"/>  and  <break time=\\\"200ms\\\"/> ten <break time=\\\"200ms\\\"/> for a total of  <break time=\\\"200ms\\\"/> <say-as interpret-as=\\\"cardinal\\\">20</say-as> <break time=\\\"200ms\\\"/> <break time=\\\"200ms\\\"/> I have <break time=\\\"200ms\\\"/> two <break time=\\\"200ms\\\"/> showing. <break time=\\\"200ms\\\"/> <break time=\\\"200ms\\\"/> <break time=\\\"200ms\\\"/> Would you like to hit, or stand?\n",
      "You stand at <break time=\\\"30ms\\\"/> <say-as interpret-as=\\\"cardinal\\\">20</say-as> <break time=\\\"30ms\\\"/> I have <break time=\\\"200ms\\\"/> two <break time=\\\"200ms\\\"/> showing. <break time=\\\"200ms\\\"/> Another card I have is <break time=\\\"200ms\\\"/> eight <break time=\\\"200ms\\\"/> for a total of <break time=\\\"200ms\\\"/> <say-as interpret-as=\\\"cardinal\\\">10</say-as> <break time=\\\"200ms\\\"/> I have to hit until I have seveteen or more points <break time=\\\"200ms\\\"/> I drew <break time=\\\"200ms\\\"/> ace <break time=\\\"200ms\\\"/> for a total of <break time=\\\"200ms\\\"/> <say-as interpret-as=\\\"cardinal\\\">11</say-as> <break time=\\\"200ms\\\"/> or <break time=\\\"200ms\\\"/> <say-as interpret-as=\\\"cardinal\\\">21</say-as> <break time=\\\"200ms\\\"/> I stand at <break time=\\\"200ms\\\"/> <say-as interpret-as=\\\"cardinal\\\">21</say-as> <break time=\\\"200ms\\\"/> You have <break time=\\\"200ms\\\"/> <say-as interpret-as=\\\"cardinal\\\">20</say-as> <break time=\\\"200ms\\\"/> You lose. <break time=\\\"200ms\\\"/> You now have <break time=\\\"200ms\\\"/> <say-as interpret-as=\\\"cardinal\\\">350</say-as> <break time=\\\"200ms\\\"/> dollars <break time=\\\"200ms\\\"/> Say \\\"start\\\" to keep playing!\n",
      "You stand at <break time=\\\"30ms\\\"/> <say-as interpret-as=\\\"cardinal\\\">20</say-as> <break time=\\\"30ms\\\"/> I have <break time=\\\"200ms\\\"/> two <break time=\\\"200ms\\\"/> showing. <break time=\\\"200ms\\\"/> Another card I have is <break time=\\\"200ms\\\"/> eight <break time=\\\"200ms\\\"/> for a total of <break time=\\\"200ms\\\"/> <say-as interpret-as=\\\"cardinal\\\">10</say-as> <break time=\\\"200ms\\\"/> I have to hit until I have seveteen or more points <break time=\\\"200ms\\\"/> I drew <break time=\\\"200ms\\\"/> ace <break time=\\\"200ms\\\"/> for a total of <break time=\\\"200ms\\\"/> <say-as interpret-as=\\\"cardinal\\\">11</say-as> <break time=\\\"200ms\\\"/> or <break time=\\\"200ms\\\"/> <say-as interpret-as=\\\"cardinal\\\">21</say-as> <break time=\\\"200ms\\\"/> I stand at <break time=\\\"200ms\\\"/> <say-as interpret-as=\\\"cardinal\\\">21</say-as> <break time=\\\"200ms\\\"/> You have <break time=\\\"200ms\\\"/> <say-as interpret-as=\\\"cardinal\\\">20</say-as> <break time=\\\"200ms\\\"/> You lose. <break time=\\\"200ms\\\"/> You now have <break time=\\\"200ms\\\"/> <say-as interpret-as=\\\"cardinal\\\">350</say-as> <break time=\\\"200ms\\\"/> dollars <break time=\\\"200ms\\\"/> Say \\\"start\\\" to keep playing!\n",
      "How much would you like to bet?\n",
      "How much would you like to bet?\n",
      "You bet <break time=\\\"100ms\\\"/> <say-as interpret-as=\\\"cardinal\\\">18</say-as> <break time=\\\"100ms\\\"/> dollars <break time=\\\"200ms\\\"/> You are dealt <break time=\\\"200ms\\\"/> queen <break time=\\\"200ms\\\"/>  and  <break time=\\\"200ms\\\"/> jack <break time=\\\"200ms\\\"/> for a total of  <break time=\\\"200ms\\\"/> <say-as interpret-as=\\\"cardinal\\\">20</say-as> <break time=\\\"200ms\\\"/> <break time=\\\"200ms\\\"/> I have <break time=\\\"200ms\\\"/> four <break time=\\\"200ms\\\"/> showing. <break time=\\\"200ms\\\"/> <break time=\\\"200ms\\\"/> <break time=\\\"200ms\\\"/> Would you like to hit, or stand?\n",
      "You bet <break time=\\\"100ms\\\"/> <say-as interpret-as=\\\"cardinal\\\">18</say-as> <break time=\\\"100ms\\\"/> dollars <break time=\\\"200ms\\\"/> You are dealt <break time=\\\"200ms\\\"/> queen <break time=\\\"200ms\\\"/>  and  <break time=\\\"200ms\\\"/> jack <break time=\\\"200ms\\\"/> for a total of  <break time=\\\"200ms\\\"/> <say-as interpret-as=\\\"cardinal\\\">20</say-as> <break time=\\\"200ms\\\"/> <break time=\\\"200ms\\\"/> I have <break time=\\\"200ms\\\"/> four <break time=\\\"200ms\\\"/> showing. <break time=\\\"200ms\\\"/> <break time=\\\"200ms\\\"/> <break time=\\\"200ms\\\"/> Would you like to hit, or stand?\n",
      "You stand at <break time=\\\"30ms\\\"/> <say-as interpret-as=\\\"cardinal\\\">20</say-as> <break time=\\\"30ms\\\"/> I have <break time=\\\"200ms\\\"/> four <break time=\\\"200ms\\\"/> showing. <break time=\\\"200ms\\\"/> Another card I have is <break time=\\\"200ms\\\"/> three <break time=\\\"200ms\\\"/> for a total of <break time=\\\"200ms\\\"/> <say-as interpret-as=\\\"cardinal\\\">7</say-as> <break time=\\\"200ms\\\"/> I have to hit until I have seveteen or more points <break time=\\\"200ms\\\"/> I drew <break time=\\\"200ms\\\"/> three <break time=\\\"200ms\\\"/> for a total of <break time=\\\"200ms\\\"/> <say-as interpret-as=\\\"cardinal\\\">10</say-as> <break time=\\\"200ms\\\"/> I drew <break time=\\\"200ms\\\"/> three <break time=\\\"200ms\\\"/> for a total of <break time=\\\"200ms\\\"/> <say-as interpret-as=\\\"cardinal\\\">13</say-as> <break time=\\\"200ms\\\"/> I drew <break time=\\\"200ms\\\"/> ace <break time=\\\"200ms\\\"/> for a total of <break time=\\\"200ms\\\"/> <say-as interpret-as=\\\"cardinal\\\">14</say-as> <break time=\\\"200ms\\\"/> I drew <break time=\\\"200ms\\\"/> three <break time=\\\"200ms\\\"/> for a total of <break time=\\\"200ms\\\"/> <say-as interpret-as=\\\"cardinal\\\">17</say-as> <break time=\\\"200ms\\\"/> I stand at <break time=\\\"200ms\\\"/> <say-as interpret-as=\\\"cardinal\\\">17</say-as> <break time=\\\"200ms\\\"/> You have <break time=\\\"200ms\\\"/> <say-as interpret-as=\\\"cardinal\\\">20</say-as> <break time=\\\"200ms\\\"/> You win! <break time=\\\"200ms\\\"/> You now have <break time=\\\"200ms\\\"/> <say-as interpret-as=\\\"cardinal\\\">368</say-as> <break time=\\\"200ms\\\"/> dollars <break time=\\\"200ms\\\"/> Say \\\"start\\\" to keep playing!\n",
      "You stand at <break time=\\\"30ms\\\"/> <say-as interpret-as=\\\"cardinal\\\">20</say-as> <break time=\\\"30ms\\\"/> I have <break time=\\\"200ms\\\"/> four <break time=\\\"200ms\\\"/> showing. <break time=\\\"200ms\\\"/> Another card I have is <break time=\\\"200ms\\\"/> three <break time=\\\"200ms\\\"/> for a total of <break time=\\\"200ms\\\"/> <say-as interpret-as=\\\"cardinal\\\">7</say-as> <break time=\\\"200ms\\\"/> I have to hit until I have seveteen or more points <break time=\\\"200ms\\\"/> I drew <break time=\\\"200ms\\\"/> three <break time=\\\"200ms\\\"/> for a total of <break time=\\\"200ms\\\"/> <say-as interpret-as=\\\"cardinal\\\">10</say-as> <break time=\\\"200ms\\\"/> I drew <break time=\\\"200ms\\\"/> three <break time=\\\"200ms\\\"/> for a total of <break time=\\\"200ms\\\"/> <say-as interpret-as=\\\"cardinal\\\">13</say-as> <break time=\\\"200ms\\\"/> I drew <break time=\\\"200ms\\\"/> ace <break time=\\\"200ms\\\"/> for a total of <break time=\\\"200ms\\\"/> <say-as interpret-as=\\\"cardinal\\\">14</say-as> <break time=\\\"200ms\\\"/> I drew <break time=\\\"200ms\\\"/> three <break time=\\\"200ms\\\"/> for a total of <break time=\\\"200ms\\\"/> <say-as interpret-as=\\\"cardinal\\\">17</say-as> <break time=\\\"200ms\\\"/> I stand at <break time=\\\"200ms\\\"/> <say-as interpret-as=\\\"cardinal\\\">17</say-as> <break time=\\\"200ms\\\"/> You have <break time=\\\"200ms\\\"/> <say-as interpret-as=\\\"cardinal\\\">20</say-as> <break time=\\\"200ms\\\"/> You win! <break time=\\\"200ms\\\"/> You now have <break time=\\\"200ms\\\"/> <say-as interpret-as=\\\"cardinal\\\">368</say-as> <break time=\\\"200ms\\\"/> dollars <break time=\\\"200ms\\\"/> Say \\\"start\\\" to keep playing!\n",
      "How much would you like to bet?\n",
      "How much would you like to bet?\n",
      "You bet <break time=\\\"100ms\\\"/> <say-as interpret-as=\\\"cardinal\\\">80</say-as> <break time=\\\"100ms\\\"/> dollars <break time=\\\"200ms\\\"/> You are dealt <break time=\\\"200ms\\\"/> five <break time=\\\"200ms\\\"/>  and  <break time=\\\"200ms\\\"/> four <break time=\\\"200ms\\\"/> for a total of  <break time=\\\"200ms\\\"/> <say-as interpret-as=\\\"cardinal\\\">9</say-as> <break time=\\\"200ms\\\"/> <break time=\\\"200ms\\\"/> I have <break time=\\\"200ms\\\"/> seven <break time=\\\"200ms\\\"/> showing. <break time=\\\"200ms\\\"/> <break time=\\\"200ms\\\"/> <break time=\\\"200ms\\\"/> Would you like to hit, or stand?\n",
      "You bet <break time=\\\"100ms\\\"/> <say-as interpret-as=\\\"cardinal\\\">80</say-as> <break time=\\\"100ms\\\"/> dollars <break time=\\\"200ms\\\"/> You are dealt <break time=\\\"200ms\\\"/> five <break time=\\\"200ms\\\"/>  and  <break time=\\\"200ms\\\"/> four <break time=\\\"200ms\\\"/> for a total of  <break time=\\\"200ms\\\"/> <say-as interpret-as=\\\"cardinal\\\">9</say-as> <break time=\\\"200ms\\\"/> <break time=\\\"200ms\\\"/> I have <break time=\\\"200ms\\\"/> seven <break time=\\\"200ms\\\"/> showing. <break time=\\\"200ms\\\"/> <break time=\\\"200ms\\\"/> <break time=\\\"200ms\\\"/> Would you like to hit, or stand?\n",
      "You hit. <break time=\\\"200ms\\\"/> You are dealt <break time=\\\"200ms\\\"/> five <break time=\\\"200ms\\\"/> for a total of  <break time=\\\"200ms\\\"/> <say-as interpret-as=\\\"cardinal\\\">14</say-as> <break time=\\\"200ms\\\"/> Would you like to hit, or stand?\n",
      "You hit. <break time=\\\"200ms\\\"/> You are dealt <break time=\\\"200ms\\\"/> five <break time=\\\"200ms\\\"/> for a total of  <break time=\\\"200ms\\\"/> <say-as interpret-as=\\\"cardinal\\\">14</say-as> <break time=\\\"200ms\\\"/> Would you like to hit, or stand?\n",
      "You hit. <break time=\\\"200ms\\\"/> You are dealt <break time=\\\"200ms\\\"/> six <break time=\\\"200ms\\\"/> for a total of  <break time=\\\"200ms\\\"/> <say-as interpret-as=\\\"cardinal\\\">20</say-as> <break time=\\\"200ms\\\"/> Would you like to hit, or stand?\n",
      "You hit. <break time=\\\"200ms\\\"/> You are dealt <break time=\\\"200ms\\\"/> six <break time=\\\"200ms\\\"/> for a total of  <break time=\\\"200ms\\\"/> <say-as interpret-as=\\\"cardinal\\\">20</say-as> <break time=\\\"200ms\\\"/> Would you like to hit, or stand?\n",
      "you hit. <break time=\\\"200ms\\\"/> You are dealt <break time=\\\"200ms\\\"/> king <break time=\\\"200ms\\\"/> for a total of  <break time=\\\"200ms\\\"/> <say-as interpret-as=\\\"cardinal\\\">30</say-as> <break time=\\\"200ms\\\"/> You lost. <break time=\\\"200ms\\\"/> You now have <break time=\\\"200ms\\\"/> <say-as interpret-as=\\\"cardinal\\\">288</say-as> <break time=\\\"200ms\\\"/> dollars <break time=\\\"200ms\\\"/> Say \\\"start\\\" to keep playing!\n",
      "you hit. <break time=\\\"200ms\\\"/> You are dealt <break time=\\\"200ms\\\"/> king <break time=\\\"200ms\\\"/> for a total of  <break time=\\\"200ms\\\"/> <say-as interpret-as=\\\"cardinal\\\">30</say-as> <break time=\\\"200ms\\\"/> You lost. <break time=\\\"200ms\\\"/> You now have <break time=\\\"200ms\\\"/> <say-as interpret-as=\\\"cardinal\\\">288</say-as> <break time=\\\"200ms\\\"/> dollars <break time=\\\"200ms\\\"/> Say \\\"start\\\" to keep playing!\n",
      "How much would you like to bet?\n",
      "How much would you like to bet?\n",
      "You bet <break time=\\\"100ms\\\"/> <say-as interpret-as=\\\"cardinal\\\">80</say-as> <break time=\\\"100ms\\\"/> dollars <break time=\\\"200ms\\\"/> You are dealt <break time=\\\"200ms\\\"/> nine <break time=\\\"200ms\\\"/>  and  <break time=\\\"200ms\\\"/> king <break time=\\\"200ms\\\"/> for a total of  <break time=\\\"200ms\\\"/> <say-as interpret-as=\\\"cardinal\\\">19</say-as> <break time=\\\"200ms\\\"/> <break time=\\\"200ms\\\"/> I have <break time=\\\"200ms\\\"/> five <break time=\\\"200ms\\\"/> showing. <break time=\\\"200ms\\\"/> <break time=\\\"200ms\\\"/> <break time=\\\"200ms\\\"/> Would you like to hit, or stand?\n",
      "You bet <break time=\\\"100ms\\\"/> <say-as interpret-as=\\\"cardinal\\\">80</say-as> <break time=\\\"100ms\\\"/> dollars <break time=\\\"200ms\\\"/> You are dealt <break time=\\\"200ms\\\"/> nine <break time=\\\"200ms\\\"/>  and  <break time=\\\"200ms\\\"/> king <break time=\\\"200ms\\\"/> for a total of  <break time=\\\"200ms\\\"/> <say-as interpret-as=\\\"cardinal\\\">19</say-as> <break time=\\\"200ms\\\"/> <break time=\\\"200ms\\\"/> I have <break time=\\\"200ms\\\"/> five <break time=\\\"200ms\\\"/> showing. <break time=\\\"200ms\\\"/> <break time=\\\"200ms\\\"/> <break time=\\\"200ms\\\"/> Would you like to hit, or stand?\n",
      "you hit. <break time=\\\"200ms\\\"/> You are dealt <break time=\\\"200ms\\\"/> seven <break time=\\\"200ms\\\"/> for a total of  <break time=\\\"200ms\\\"/> <say-as interpret-as=\\\"cardinal\\\">26</say-as> <break time=\\\"200ms\\\"/> You lost. <break time=\\\"200ms\\\"/> You now have <break time=\\\"200ms\\\"/> <say-as interpret-as=\\\"cardinal\\\">208</say-as> <break time=\\\"200ms\\\"/> dollars <break time=\\\"200ms\\\"/> Say \\\"start\\\" to keep playing!\n",
      "you hit. <break time=\\\"200ms\\\"/> You are dealt <break time=\\\"200ms\\\"/> seven <break time=\\\"200ms\\\"/> for a total of  <break time=\\\"200ms\\\"/> <say-as interpret-as=\\\"cardinal\\\">26</say-as> <break time=\\\"200ms\\\"/> You lost. <break time=\\\"200ms\\\"/> You now have <break time=\\\"200ms\\\"/> <say-as interpret-as=\\\"cardinal\\\">208</say-as> <break time=\\\"200ms\\\"/> dollars <break time=\\\"200ms\\\"/> Say \\\"start\\\" to keep playing!\n"
     ]
    }
   ],
   "source": [
    "for each in response['events']:\n",
    "    try:\n",
    "        for speech in re.findall(r'<speak>([\\s\\S]*?)<\\/speak>',each['message']):\n",
    "            print(speech)\n",
    "    except AttributeError:\n",
    "        continue"
   ]
  },
  {
   "cell_type": "code",
   "execution_count": 63,
   "metadata": {},
   "outputs": [
    {
     "data": {
      "text/plain": [
       "'You hit'"
      ]
     },
     "execution_count": 63,
     "metadata": {},
     "output_type": "execute_result"
    }
   ],
   "source": [
    "'You hit'"
   ]
  },
  {
   "cell_type": "code",
   "execution_count": null,
   "metadata": {},
   "outputs": [],
   "source": []
  }
 ],
 "metadata": {
  "kernelspec": {
   "display_name": "Python 3",
   "language": "python",
   "name": "python3"
  },
  "language_info": {
   "codemirror_mode": {
    "name": "ipython",
    "version": 3
   },
   "file_extension": ".py",
   "mimetype": "text/x-python",
   "name": "python",
   "nbconvert_exporter": "python",
   "pygments_lexer": "ipython3",
   "version": "3.6.6"
  }
 },
 "nbformat": 4,
 "nbformat_minor": 2
}
